{
  "cells": [
    {
      "cell_type": "markdown",
      "id": "13ad028b-72b7-43ed-aa78-96fd4e518040",
      "metadata": {
        "id": "13ad028b-72b7-43ed-aa78-96fd4e518040"
      },
      "source": [
        "# Assignment: Data Wrangling and Exploratory Data Analysis\n",
        "## Do Q1 and Q2, and one other question.\n",
        "`! git clone https://www.github.com/DS3001/assignment2`"
      ]
    },
    {
      "cell_type": "code",
      "source": [
        "! git clone https://www.github.com/DS3001/assignment2"
      ],
      "metadata": {
        "colab": {
          "base_uri": "https://localhost:8080/"
        },
        "id": "AY8jWY26JNYH",
        "outputId": "dac288c2-d6b5-447a-8a46-0c0714927a1c"
      },
      "id": "AY8jWY26JNYH",
      "execution_count": null,
      "outputs": [
        {
          "output_type": "stream",
          "name": "stdout",
          "text": [
            "Cloning into 'assignment2'...\n",
            "warning: redirecting to https://github.com/DS3001/assignment2.git/\n",
            "remote: Enumerating objects: 36, done.\u001b[K\n",
            "remote: Counting objects: 100% (12/12), done.\u001b[K\n",
            "remote: Compressing objects: 100% (7/7), done.\u001b[K\n",
            "remote: Total 36 (delta 8), reused 5 (delta 5), pack-reused 24\u001b[K\n",
            "Receiving objects: 100% (36/36), 5.47 MiB | 23.33 MiB/s, done.\n",
            "Resolving deltas: 100% (9/9), done.\n"
          ]
        }
      ]
    },
    {
      "cell_type": "markdown",
      "id": "5735a4d4-8be8-433a-a351-70eb8002e632",
      "metadata": {
        "id": "5735a4d4-8be8-433a-a351-70eb8002e632"
      },
      "source": [
        "**Q1.** Open the \"tidy_data.pdf\" document in the repo, which is a paper called Tidy Data by Hadley Wickham.\n",
        "\n",
        "  1. Read the abstract. What is this paper about?\n",
        "  2. Read the introduction. What is the \"tidy data standard\" intended to accomplish?\n",
        "  3. Read the intro to section 2. What does this sentence mean: \"Like families, tidy datasets are all alike but every messy dataset is messy in its own way.\" What does this sentence mean: \"For a given dataset, it’s usually easy to figure out what are observations and what are variables, but it is surprisingly difficult to precisely define variables and observations in general.\"\n",
        "  4. Read Section 2.2. How does Wickham define values, variables, and observations?\n",
        "  5. How is \"Tidy Data\" defined in section 2.3?\n",
        "  6. Read the intro to Section 3 and Section 3.1. What are the 5 most common problems with messy datasets? Why are the data in Table 4 messy? What is \"melting\" a dataset?\n",
        "  7. Why, specifically, is table 11 messy but table 12 tidy and \"molten\"?\n",
        "  8. Read Section 6. What is the \"chicken-and-egg\" problem with focusing on tidy data? What does Wickham hope happens in the future with further work on the subject of data wrangling?"
      ]
    },
    {
      "cell_type": "markdown",
      "source": [
        "\n",
        "\n",
        "1.   This paper is about a methodical way to clean data. The author points out how there is a lot of research into data anyalsis, but little into data cleaning. Thus, this paper covers what he calls \"tidy data.\"\n",
        "2.   The tidy data standard is created to give a baseline standard for what a clean data set looks like. Often, more data cleaning might be needed to support different anaylisis or added data. However, the tidy data standard is met to be a common standard starting point for dataset cleaning.\n",
        "3.  The first sentence presented in the question means that a clean or tidy dataset is alike to all other tidy datasets, because they follow the same standards. However, a messy dataset is its unique kind of messy. All untidy datasets do not have the same standards so the path to making them tidy is going to be diffeernt for everyone. The second sentence means that variables and observations are very easy to identidy, but hard to define. Observations and variables also depend on the data's context. Variables are for an \"underlaying attribute\" and observations are for measured values across attributes.\n",
        "4.  Values are numerical or textual inputs. Each value belongs to a variable and an observation. A variable is a measurable catagory or attibute like height. An observation is what or who that value belongs to like a person.\n",
        "5.  Tidy data is when an every variable creates a column and each observation creates a row. A table is made up of only one observational unit.\n",
        "6.  The 5 most common problems with messy data are column headers with values, multiple variables in one column, variables stored in columns and rows, more than one observational unit stored in one table, and one observational unit stored across many tables. The table in table 4 are messy because there are values in the column header. It should instead be religon, income,and frequency as the columns or variables. Melting the dataset means to pivot it longer or to stack the data. In practice, this means to turn columns into rows.\n",
        "7.  Table 11 is messy because the day should be a varaible with the date as a value. All of the d1,d2,etc should be values for the day varaible. Addionally, tmin and tmax are variables so they should be columns,Table 12 is molten because now date is one column. Then, the second table is tidy because tmin and tmax each have thier own column as seperate varaibles.\n",
        "8.  The \"chicken-and-egg\" problem with tidy data is that tidy data is only as useful as the tools built around it. Tidy tools are only as useful as the tidy data. This makes breaking out of this box hard for future explanion. As such, Wickham wants to see more frameworks developed for data cleaning. He does not suggest tidy data is the best solution; instead, he hopes to shed light on a part of data science that needs more attention.\n"
      ],
      "metadata": {
        "id": "Fg9xNL9sJehU"
      },
      "id": "Fg9xNL9sJehU"
    },
    {
      "cell_type": "markdown",
      "id": "da879ea7-8aac-48a3-b6c2-daea56d2e072",
      "metadata": {
        "id": "da879ea7-8aac-48a3-b6c2-daea56d2e072"
      },
      "source": [
        "**Q2.** This question provides some practice cleaning variables which have common problems.\n",
        "1. Numeric variable: For `./data/airbnb_hw.csv`, clean the `Price` variable as well as you can, and explain the choices you make. How many missing values do you end up with? (Hint: What happens to the formatting when a price goes over 999 dollars, say from 675 to 1,112?)\n",
        "2. Categorical variable: For the `./data/sharks.csv` data covered in the lecture, clean the \"Type\" variable as well as you can, and explain the choices you make.\n",
        "3. Dummy variable: For the pretrial data covered in the lecture, clean the `WhetherDefendantWasReleasedPretrial` variable as well as you can, and, in particular, replace missing values with `np.nan`.\n",
        "4. Missing values, not at random: For the pretrial data covered in the lecture, clean the `ImposedSentenceAllChargeInContactEvent` variable as well as you can, and explain the choices you make. (Hint: Look at the `SentenceTypeAllChargesAtConvictionInContactEvent` variable.)"
      ]
    },
    {
      "cell_type": "code",
      "source": [
        "import pandas as pd\n",
        "import numpy as np\n",
        "import matplotlib.pyplot as plt"
      ],
      "metadata": {
        "id": "3n8gLWeq9UDT"
      },
      "id": "3n8gLWeq9UDT",
      "execution_count": 52,
      "outputs": []
    },
    {
      "cell_type": "code",
      "source": [
        "airbnb = pd.read_csv('./assignment2/data/airbnb_hw.csv')\n",
        "airbnb['Price'].unique()\n",
        "# I notice that the values are all objects and anything above 999 has a comma\n",
        "\n",
        "airbnb['Price']=airbnb['Price'].str.replace(',','')\n",
        "airbnb['Price']=pd.to_numeric(airbnb['Price'])\n",
        "airbnb['Price'].unique()\n"
      ],
      "metadata": {
        "id": "tkAF6oMn9bo2",
        "outputId": "86d0cee9-0012-418d-96a0-a45df23541f6",
        "colab": {
          "base_uri": "https://localhost:8080/"
        }
      },
      "id": "tkAF6oMn9bo2",
      "execution_count": 58,
      "outputs": [
        {
          "output_type": "execute_result",
          "data": {
            "text/plain": [
              "array([  145,    37,    28,   199,   549,   149,   250,    90,   270,\n",
              "         290,   170,    59,    49,    68,   285,    75,   100,   150,\n",
              "         700,   125,   175,    40,    89,    95,    99,   499,   120,\n",
              "          79,   110,   180,   143,   230,   350,   135,    85,    60,\n",
              "          70,    55,    44,   200,   165,   115,    74,    84,   129,\n",
              "          50,   185,    80,   190,   140,    45,    65,   225,   600,\n",
              "         109,  1990,    73,   240,    72,   105,   155,   160,    42,\n",
              "         132,   117,   295,   280,   159,   107,    69,   239,   220,\n",
              "         399,   130,   375,   585,   275,   139,   260,    35,   133,\n",
              "         300,   289,   179,    98,   195,    29,    27,    39,   249,\n",
              "         192,   142,   169,  1000,   131,   138,   113,   122,   329,\n",
              "         101,   475,   238,   272,   308,   126,   235,   315,   248,\n",
              "         128,    56,   207,   450,   215,   210,   385,   445,   136,\n",
              "         247,   118,    77,    76,    92,   198,   205,   299,   222,\n",
              "         245,   104,   153,   349,   114,   320,   292,   226,   420,\n",
              "         500,   325,   307,    78,   265,   108,   123,   189,    32,\n",
              "          58,    86,   219,   800,   335,    63,   229,   425,    67,\n",
              "          87,  1200,   158,   650,   234,   310,   695,   400,   166,\n",
              "         119,    62,   168,   340,   479,    43,   395,   144,    52,\n",
              "          47,   529,   187,   209,   233,    82,   269,   163,   172,\n",
              "         305,   156,   550,   435,   137,   124,    48,   279,   330,\n",
              "        5000,   134,   378,    97,   277,    64,   193,   147,   186,\n",
              "         264,    30,  3000,   112,    94,   379,    57,   415,   236,\n",
              "         410,   214,    88,    66,    71,   171,   157,   545,  1500,\n",
              "          83,    96,  1800,    81,   188,   380,   255,   505,    54,\n",
              "          33,   174,    93,   740,   640,  1300,   440,   599,   357,\n",
              "        1239,   495,   127,  5999,   178,   348,   152,   242,   183,\n",
              "         253,   750,   259,   365,   273,   197,   397,   103,   389,\n",
              "         355,   559,    38,   203,   999,   141,   162,   333,   698,\n",
              "          46,   360,   895,    10,    41,   206,   281,   449,   388,\n",
              "         212,   102,   201,  2750,  4750,   432,   675,   167,   390,\n",
              "         298,   339,   194,   302,   211,   595,   191,    53,   361,\n",
              "         480,  8000,  4500,   459,   997,   345,   216,   218,   111,\n",
              "         735,   276,    91,   490,   850,   398,    36,   775,   267,\n",
              "         625,   336,  2500,   176,   725,  3750,   469,   106,   460,\n",
              "         287,   575,   227,   263,    25,   228,   208,   177,   880,\n",
              "         148,   116,   685,   470,   217,   164,    61,   645,   699,\n",
              "         405,   252,   319,   268,   419,   343,   525,   311,   840,\n",
              "         154,   294,   950,   409,   184,   257,   204,   241,  2000,\n",
              "         412,   121,   288,   196,   900,   647,   524,  1750,   309,\n",
              "         510,  1495,  1700,   799,   383,   372,   492,   327,  1999,\n",
              "         656,   224,   173,   875,  1170,   795,   690,   146,   465,\n",
              "        1100,   151,   274,   429,   825,   282,   256,  1111,   620,\n",
              "         271,   161,    51,   855,   579,  1174,   430,    20,   899,\n",
              "         649,   485,   181,   455,  4000,   243,   342,   590,   560,\n",
              "         374,   437,   232,   359,   985,    31,   244,   254,   723,\n",
              "         237,   428,   370,    34,  1400,   580,  2520,   221,   749,\n",
              "        1600,  2695,   306,   202,   680,   570,   520,   223,  2295,\n",
              "         213,  1065,   346,    24,   286,   296,   266,    26,   995,\n",
              "        1368,   393,   182,   635,   258,   780,   589,   347,  1250,\n",
              "        1350,   446,  3200,  1050,  1650,  1550,   975,   323,  6500,\n",
              "        2499,  1850,  2250,   715,   461,   540,   356,   439,   384,\n",
              "         569,  1900,    22,   785,   626,   830,   318,   444,   321,\n",
              "         401,  1499,   888,   369,   770,   386,   366,   344,   630,\n",
              "         313,   597,   262,   509, 10000,   278,   312,   789,  1195,\n",
              "         422,    21,   765,  3500,   945,   326,  3100,  2486,  3390,\n",
              "        1356,  2599,   472,   454,   328,   396,   291])"
            ]
          },
          "metadata": {},
          "execution_count": 58
        }
      ]
    },
    {
      "cell_type": "code",
      "source": [
        "sharks = pd.read_csv('./assignment2/data/sharks.csv')\n",
        "sharks['Type'].unique()\n",
        "# I notice that there are only 3 real categories within the Types column\n",
        "# Unprovoked, Provoked, and Unknown\n",
        "# Unknow could mean it was unknown the type or the wrong data was\n",
        "# input so we still don't know the type of attack\n",
        "\n",
        "list_of_unknown = ['Questionable', 'Watercraft', 'Uncofirmed', 'Unverified',\n",
        "                   'Invalid', 'Under investigation', 'Boating', 'Sea Disaster',\n",
        "                   'Boat', 'Boatomg', 'Unconfirmed']\n",
        "sharks['Type'] = sharks['Type'].replace(list_of_unknown, 'Unknown')\n",
        "sharks['Type'] = sharks['Type'].replace(np.nan, 'Unknown')\n",
        "\n",
        "sharks['Type'].unique()\n"
      ],
      "metadata": {
        "id": "sTn_SJX5-V-_",
        "outputId": "edd79af4-a074-4128-c8cb-a540c1d503ba",
        "colab": {
          "base_uri": "https://localhost:8080/"
        }
      },
      "id": "sTn_SJX5-V-_",
      "execution_count": 66,
      "outputs": [
        {
          "output_type": "stream",
          "name": "stderr",
          "text": [
            "<ipython-input-66-197d2ac003c0>:1: DtypeWarning: Columns (10,17,18,19,20,21,24) have mixed types. Specify dtype option on import or set low_memory=False.\n",
            "  sharks = pd.read_csv('./assignment2/data/sharks.csv')\n"
          ]
        },
        {
          "output_type": "execute_result",
          "data": {
            "text/plain": [
              "array(['Unprovoked', 'Provoked', 'Unknown'], dtype=object)"
            ]
          },
          "metadata": {},
          "execution_count": 66
        }
      ]
    },
    {
      "cell_type": "markdown",
      "id": "c11bcd96-2834-41a4-80fe-d354b4277fd9",
      "metadata": {
        "id": "c11bcd96-2834-41a4-80fe-d354b4277fd9"
      },
      "source": [
        "**Q3.** This question provides some practice doing exploratory data analysis and visualization.\n",
        "\n",
        "The \"relevant\" variables for this question are:\n",
        "  - `level` - Level of institution (4-year, 2-year)\n",
        "  - `aid_value` - The average amount of student aid going to undergraduate recipients\n",
        "  - `control` - Public, Private not-for-profit, Private for-profit\n",
        "  - `grad_100_value` - percentage of first-time, full-time, degree-seeking undergraduates who complete a degree or certificate program within 100 percent of expected time (bachelor's-seeking group at 4-year institutions)\n",
        "\n",
        "1. Load the `./data/college_completion.csv` data with Pandas.\n",
        "2. What are are the dimensions of the data? How many observations are there? What are the variables included? Use `.head()` to examine the first few rows of data.\n",
        "3. Cross tabulate `control` and `level`. Describe the patterns you see.\n",
        "4. For `grad_100_value`, create a histogram, kernel density plot, boxplot, and statistical description.\n",
        "5. For `grad_100_value`, create a grouped kernel density plot by `control` and by `level`. Describe what you see. Use `groupby` and `.describe` to make grouped calculations of statistical descriptions of `grad_100_value` by `level` and `control`. Which institutions appear to have the best graduation rates?\n",
        "6. Create a new variable, `df['levelXcontrol']=df['level']+', '+df['control']` that interacts level and control. Make a grouped kernel density plot. Which institutions appear to have the best graduation rates?\n",
        "7. Make a kernel density plot of `aid_value`. Notice that your graph is \"bi-modal\", having two little peaks that represent locally most common values. Now group your graph by `level` and `control`. What explains the bi-modal nature of the graph? Use `groupby` and `.describe` to make grouped calculations of statistical descriptions of `aid_value` by `level` and `control`.\n",
        "8. Make a scatterplot of `grad_100_value` by `aid_value`. Describe what you see. Now make the same plot, grouping by `level` and then `control`. Describe what you see. For which kinds of institutions does aid seem to increase graduation rates?"
      ]
    },
    {
      "cell_type": "markdown",
      "id": "98d34a3b-c21d-4dc9-a8d2-fb7686804ceb",
      "metadata": {
        "id": "98d34a3b-c21d-4dc9-a8d2-fb7686804ceb"
      },
      "source": [
        "**Q4.** This question uses the Airbnb data to practice making visualizations.\n",
        "\n",
        "  1. Load the `./data/airbnb_hw.csv` data with Pandas. You should have cleaned the `Price` variable in question 2, and you'll need it later for this question.\n",
        "  2. What are are the dimensions of the data? How many observations are there? What are the variables included? Use `.head()` to examine the first few rows of data.\n",
        "  3. Cross tabulate `Room Type` and `Property Type`. What patterns do you see in what kinds of rentals are available? For which kinds of properties are private rooms more common than renting the entire property?\n",
        "  4. For `Price`, make a histogram, kernel density, box plot, and a statistical description of the variable. Are the data badly scaled? Are there many outliers? Use `log` to transform price into a new variable, `price_log`, and take these steps again.\n",
        "  5. Make a scatterplot of `price_log` and `Beds`. Describe what you see. Use `.groupby()` to compute a desciption of `Price` conditional on/grouped by the number of beds. Describe any patterns you see in the average price and standard deviation in prices.\n",
        "  6. Make a scatterplot of `price_log` and `Beds`, but color the graph by `Room Type` and `Property Type`. What patterns do you see? Compute a description of `Price` conditional on `Room Type` and `Property Type`. Which Room Type and Property Type have the highest prices on average? Which have the highest standard deviation? Does the mean or median appear to be a more reliable estimate of central tendency, and explain why?\n",
        "  7. We've looked a bit at this `price_log` and `Beds` scatterplot. Use seaborn to make a `jointplot` with `kind=hex`. Where are the data actually distributed? How does it affect the way you think about the plots in 5 and 6?"
      ]
    },
    {
      "cell_type": "markdown",
      "id": "649494cd-cfd6-4f80-992a-9994fc19e1d5",
      "metadata": {
        "id": "649494cd-cfd6-4f80-992a-9994fc19e1d5"
      },
      "source": [
        "**Q5.** Many important datasets contain a race variable, typically limited to a handful of values often including Black, White, Asian, Latino, and Indigenous. This question looks at data gathering efforts on this variable by the U.S. Federal government.\n",
        "\n",
        "1. How did the most recent US Census gather data on race?\n",
        "2. Why do we gather these data? What role do these kinds of data play in politics and society? Why does data quality matter?\n",
        "3. Please provide a constructive criticism of how the Census was conducted: What was done well? What do you think was missing? How should future large scale surveys be adjusted to best reflect the diversity of the population? Could some of the Census' good practices be adopted more widely to gather richer and more useful data?\n",
        "4. How did the Census gather data on sex and gender? Please provide a similar constructive criticism of their practices.\n",
        "5. When it comes to cleaning data, what concerns do you have about protected characteristics like sex, gender, sexual identity, or race? What challenges can you imagine arising when there are missing values? What good or bad practices might people adopt, and why?\n",
        "6. Suppose someone invented an algorithm to impute values for protected characteristics like race, gender, sex, or sexuality. What kinds of concerns would you have?"
      ]
    },
    {
      "cell_type": "markdown",
      "id": "2f38f2fd-6381-481d-bba9-017f3d363426",
      "metadata": {
        "id": "2f38f2fd-6381-481d-bba9-017f3d363426"
      },
      "source": [
        "**Q6.** Open the `./data/CBO_data.pdf` file. This contains tax data for 2019, explaining where the money comes from that the U.S. Federal Government Spends in terms of taxation on individuals/families and payroll taxes (the amount that your employer pays in taxes on your wages).\n",
        "\n",
        "For some context, the Federal government ultimately spent about $4.4 trillion in 2019, which was 21% of GDP (the total monetary value of all goods and services produced within the United States). Individual Income Taxes is the amount individuals pay on their wages to the Federal government, Corporate Income Taxes is the taxes individuals pay on capital gains from investment when they sell stock or other financial instruments, Payroll Taxes is the tax your employer pays on your wages, Excises and Customs Duties are taxes on goods or services like sin taxes on cigarettes or alcohol, and Estate and Gift Taxes are taxes paid on transfers of wealth to other people.\n",
        "\n",
        "1. Get the Millions of Families and Billions of Dollars data into a .csv file and load it with Pandas.\n",
        "2. Create a bar plot of individual income taxes by income decile. Explain what the graph shows. Why are some values negative?\n",
        "3. Create a bar plot of Total Federal Taxes by income decile. Which deciles are paying net positive amounts, and which are paying net negative amounts?\n",
        "4. Create a stacked bar plot for which Total Federal Taxes is grouped by Individual Income Taxes, Payroll Taxes, Excises and Customs Duties, and Estate and Gift Taxes. How does the share of taxes paid vary across the adjusted income deciles? (Hint: Are these the kind of data you want to melt?)\n",
        "5. Below the Total line for Millions of Families and Billions of Dollars, there are data for the richest of the richest families. Plot this alongside the bars for the deciles above the Total line. Describe your results.\n",
        "6. Get the Percent Distribution data into a .csv file and load it with Pandas. Create a bar graph of Total Federal Taxes by income decile.\n",
        "7. A tax system is progressive if higher-income and wealthier individuals pay more than lower-income and less wealthy individuals, and it is regressive if the opposite is true. Is the U.S. tax system progressive in terms of amount paid? In terms of the percentage of the overall total?\n",
        "8. Do the rich pay enough in taxes? Defend your answer."
      ]
    }
  ],
  "metadata": {
    "kernelspec": {
      "display_name": "Python 3 (ipykernel)",
      "language": "python",
      "name": "python3"
    },
    "language_info": {
      "codemirror_mode": {
        "name": "ipython",
        "version": 3
      },
      "file_extension": ".py",
      "mimetype": "text/x-python",
      "name": "python",
      "nbconvert_exporter": "python",
      "pygments_lexer": "ipython3",
      "version": "3.10.4"
    },
    "colab": {
      "provenance": []
    }
  },
  "nbformat": 4,
  "nbformat_minor": 5
}